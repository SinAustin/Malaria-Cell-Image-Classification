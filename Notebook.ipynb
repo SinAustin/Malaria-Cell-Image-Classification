{
 "cells": [
  {
   "cell_type": "code",
   "execution_count": 18,
   "metadata": {},
   "outputs": [],
   "source": [
    "import numpy as np \n",
    "import pandas as pd\n",
    "import matplotlib.pyplot as plt\n",
    "\n",
    "import keras\n",
    "from keras.layers import Conv2D\n",
    "from keras.models import Sequential\n",
    "from keras.layers import Dense, Dropout, Activation, Flatten\n",
    "from keras.layers import MaxPooling2D\n",
    "\n",
    "from keras.models import model_from_json\n",
    "from keras.models import load_model\n",
    "\n",
    "from time import time\n",
    "from tensorflow.python.keras.callbacks import TensorBoard\n",
    "\n",
    "from sklearn.utils import shuffle\n",
    "from skimage import transform\n",
    "from skimage.color import rgb2gray\n",
    "from skimage import io\n",
    "\n",
    "import os\n",
    "import glob\n",
    "\n",
    "\n",
    "\n",
    "from IPython.display import clear_output\n",
    "\n",
    "%matplotlib inline"
   ]
  },
  {
   "cell_type": "markdown",
   "metadata": {},
   "source": [
    "#### Data Acquisition and Prep"
   ]
  },
  {
   "cell_type": "markdown",
   "metadata": {},
   "source": [
    "The cell images used in this case are from the U.C Nation Library of Medicine. https://lhncbc.nlm.nih.gov/publication/pub9932.\n",
    "\n",
    "Initially the Data was seperated into folders as parasitised and uninfected. Each containing 13,780 images. \n",
    "The images where not labeled so i wrote a python script to rename the images as paras.#.jpg(parasitised) or uninf.#.jpg(uninfected) i.e-\n",
    "\n",
    "    os.rename(os.path.join(path, file), os.path.join(path, 'paras.' +str(i)+'.jpg'))\n",
    "    i = i+1\n",
    "    \n",
    "Then I seperated the folders into train and test folders. Train containing 13,000 of each parasitised and uninifected cell images totaling 26,000 cell images. and test containing the left over 780 cell images of each folder totaling 1560 cell images. "
   ]
  },
  {
   "cell_type": "code",
   "execution_count": 3,
   "metadata": {},
   "outputs": [],
   "source": [
    "# Our training and testing folder paths\n",
    "train_dir = './cell_images/train'\n",
    "test_dir = './cell_images/test'"
   ]
  },
  {
   "cell_type": "code",
   "execution_count": 4,
   "metadata": {},
   "outputs": [],
   "source": [
    "#figuring some stuff \n",
    "#import glob\n",
    "#for img in glob.glob('cell_images/train/*.jpg'):\n",
    "        #print (img.split('.')[0][-5])"
   ]
  },
  {
   "cell_type": "markdown",
   "metadata": {},
   "source": [
    "### Labeling our cell images with arrays of [0,1] or [1,0] based on diagnosis."
   ]
  },
  {
   "cell_type": "code",
   "execution_count": 5,
   "metadata": {},
   "outputs": [],
   "source": [
    "# Our images now have the diagnosis in the file name. We will label our data based on the file name.\n",
    "# files beginning with p are Parasitized cells\n",
    "# files beginning with u are uninfected cells\n",
    "# this will create our y/target variable\n",
    "def label_img(img):\n",
    "    word_label=img.split('.')\n",
    "    if word_label[1][-5]=='p':\n",
    "        return [0,1]\n",
    "    elif word_label[1][-5]=='u':\n",
    "        return [1,0]"
   ]
  },
  {
   "cell_type": "markdown",
   "metadata": {},
   "source": [
    "### Functions to create of training and testing Data from our images"
   ]
  },
  {
   "cell_type": "code",
   "execution_count": 6,
   "metadata": {},
   "outputs": [],
   "source": [
    "# A function to create training data\n",
    "def mk_train_data():\n",
    "    train_data = []\n",
    "    num = 0\n",
    "    bad = 0\n",
    "    for img in glob.glob('./cell_images/train/*.jpg'):\n",
    "        # Using try because out of 26,000 images one could be bad\n",
    "        try:\n",
    "            # Labeling the cell image as parasitized or uninfected\n",
    "            label = label_img(img)\n",
    "            path = os.path.join(train_dir, img)\n",
    "            \n",
    "            # Loading the cell image, gray scaling it then resizing to our perfered input shape\n",
    "            img = io.imread(img)\n",
    "            img = rgb2gray(img)\n",
    "            img = transform.resize(img,[60,60])\n",
    "            \n",
    "            #appending each image's data and label/classification in the form of arrays\n",
    "            train_data.append([np.array(img), np.array(label)])\n",
    "        except:\n",
    "            bad+=1\n",
    "            \n",
    "        num+=1\n",
    "        \n",
    "        if num % 1000 == 0:\n",
    "            print(num)\n",
    "            print(bad)\n",
    "    \n",
    "    shuffle(train_data)\n",
    "    # Saving the data so we don't have to create it again!\n",
    "    np.save('train_data.npy', train_data)\n",
    "    clear_output()\n",
    "    print('Finished')\n",
    "    return train_data"
   ]
  },
  {
   "cell_type": "code",
   "execution_count": 7,
   "metadata": {},
   "outputs": [],
   "source": [
    "# A function to create testing data/same as mk_train function\n",
    "def mk_test_data():\n",
    "    test_data = []\n",
    "    num = 0\n",
    "    bad = 0\n",
    "    for img in glob.glob('./cell_images/test/*.jpg'):\n",
    "        try:\n",
    "            \n",
    "            label = label_img(img)\n",
    "            path = os.path.join(test_dir, img)\n",
    "            img = io.imread(img)\n",
    "            img = rgb2gray(img)\n",
    "            img = transform.resize(img,[60,60])\n",
    "            test_data.append([np.array(img), np.array(label)])\n",
    "        except:\n",
    "            bad+=1\n",
    "            \n",
    "        num+=1\n",
    "        \n",
    "        if num % 100 == 0:\n",
    "            print(num)\n",
    "            print(bad)\n",
    "    shuffle(test_data)\n",
    "    np.save('test_data.npy', test_data)\n",
    "    clear_output()\n",
    "    print('Finished')\n",
    "    return test_data"
   ]
  },
  {
   "cell_type": "markdown",
   "metadata": {},
   "source": [
    "### The next 2 cells are used when I intially created training and testing data yet."
   ]
  },
  {
   "cell_type": "code",
   "execution_count": 8,
   "metadata": {
    "scrolled": true
   },
   "outputs": [],
   "source": [
    "# creating train data\n",
    "#train_data = mk_train_data()"
   ]
  },
  {
   "cell_type": "code",
   "execution_count": 9,
   "metadata": {},
   "outputs": [],
   "source": [
    "# creating test data\n",
    "#test_data = mk_test_data()"
   ]
  },
  {
   "cell_type": "markdown",
   "metadata": {},
   "source": [
    "### Loading the Previously created Data."
   ]
  },
  {
   "cell_type": "code",
   "execution_count": 10,
   "metadata": {},
   "outputs": [],
   "source": [
    "# Loading in the data we previously made\n",
    "train_data = np.load('./train_data.npy')\n",
    "test_data = np.load('./test_data.npy')"
   ]
  },
  {
   "cell_type": "markdown",
   "metadata": {},
   "source": [
    "### Creating the train and test sets."
   ]
  },
  {
   "cell_type": "code",
   "execution_count": 11,
   "metadata": {},
   "outputs": [],
   "source": [
    "X_train = np.array([i[0] for i in train_data]).reshape(-1, 60,60,1)\n",
    "y_train = [i[1] for i in train_data]\n",
    "y_train = np.squeeze(y_train)\n",
    "\n",
    "X_test = np.array([i[0] for i in test_data]).reshape(-1, 60,60,1)\n",
    "y_test = [i[1] for i in test_data]\n",
    "y_test = np.squeeze(y_test)"
   ]
  },
  {
   "cell_type": "code",
   "execution_count": 12,
   "metadata": {},
   "outputs": [
    {
     "data": {
      "text/plain": [
       "array([[0., 0., 0., ..., 0., 0., 0.],\n",
       "       [0., 0., 0., ..., 0., 0., 0.],\n",
       "       [0., 0., 0., ..., 0., 0., 0.],\n",
       "       ...,\n",
       "       [0., 0., 0., ..., 0., 0., 0.],\n",
       "       [0., 0., 0., ..., 0., 0., 0.],\n",
       "       [0., 0., 0., ..., 0., 0., 0.]])"
      ]
     },
     "execution_count": 12,
     "metadata": {},
     "output_type": "execute_result"
    }
   ],
   "source": [
    "train_data[1][0]"
   ]
  },
  {
   "cell_type": "markdown",
   "metadata": {},
   "source": [
    "### Building the model"
   ]
  },
  {
   "cell_type": "code",
   "execution_count": 13,
   "metadata": {},
   "outputs": [],
   "source": [
    "# Here I'll list any model parameters\n",
    "imgsize = 60\n",
    "eps = 5"
   ]
  },
  {
   "cell_type": "code",
   "execution_count": 14,
   "metadata": {},
   "outputs": [
    {
     "name": "stdout",
     "output_type": "stream",
     "text": [
      "WARNING:tensorflow:From /home/i/anaconda3/lib/python3.7/site-packages/tensorflow/python/framework/op_def_library.py:263: colocate_with (from tensorflow.python.framework.ops) is deprecated and will be removed in a future version.\n",
      "Instructions for updating:\n",
      "Colocations handled automatically by placer.\n",
      "WARNING:tensorflow:From /home/i/anaconda3/lib/python3.7/site-packages/keras/backend/tensorflow_backend.py:3363: calling dropout (from tensorflow.python.ops.nn_ops) with keep_prob is deprecated and will be removed in a future version.\n",
      "Instructions for updating:\n",
      "Please use `rate` instead of `keep_prob`. Rate should be set to `rate = 1 - keep_prob`.\n"
     ]
    }
   ],
   "source": [
    "# Building the Model\n",
    "\n",
    "cnn_model = Sequential()\n",
    "\n",
    "cnn_model.add(Conv2D(filters=32,\n",
    "                     kernel_size=3,\n",
    "                     activation='relu',\n",
    "                     input_shape=[imgsize,imgsize,1] ))\n",
    "cnn_model.add(MaxPooling2D(pool_size=(2,2)))\n",
    "\n",
    "cnn_model.add(Conv2D(32,\n",
    "                    kernel_size=3,\n",
    "                    activation='relu'))\n",
    "cnn_model.add(MaxPooling2D(pool_size=(2,2)))\n",
    "\n",
    "cnn_model.add(Conv2D(64,\n",
    "                    kernel_size=3,\n",
    "                    activation ='relu'))\n",
    "cnn_model.add(MaxPooling2D(pool_size=(2,2)))\n",
    "\n",
    "\n",
    "cnn_model.add(Flatten())\n",
    "cnn_model.add(Dense(128,\n",
    "                   activation='relu'))\n",
    "\n",
    "cnn_model.add(Dropout(0.5))\n",
    "cnn_model.add(Dense(2,\n",
    "             activation='sigmoid'))\n",
    "\n",
    "tensorboard = TensorBoard(log_dir='./logs',)"
   ]
  },
  {
   "cell_type": "code",
   "execution_count": 15,
   "metadata": {},
   "outputs": [],
   "source": [
    "cnn_model.compile(loss='binary_crossentropy',\n",
    "                 optimizer='Adam',\n",
    "                 metrics=['accuracy'])"
   ]
  },
  {
   "cell_type": "markdown",
   "metadata": {},
   "source": [
    "### Loading our saved model"
   ]
  },
  {
   "cell_type": "code",
   "execution_count": 15,
   "metadata": {},
   "outputs": [
    {
     "name": "stdout",
     "output_type": "stream",
     "text": [
      "WARNING:tensorflow:From /home/i/anaconda3/lib/python3.7/site-packages/tensorflow/python/ops/math_ops.py:3066: to_int32 (from tensorflow.python.ops.math_ops) is deprecated and will be removed in a future version.\n",
      "Instructions for updating:\n",
      "Use tf.cast instead.\n",
      "Model Loaded\n"
     ]
    }
   ],
   "source": [
    "# Only if we have a trained model saved\n",
    "loaded_model = load_model('cnn_model.hdf5')                 \n",
    "\n",
    "print('Model Loaded')                 "
   ]
  },
  {
   "cell_type": "code",
   "execution_count": 16,
   "metadata": {},
   "outputs": [
    {
     "name": "stdout",
     "output_type": "stream",
     "text": [
      "WARNING:tensorflow:From /home/i/anaconda3/lib/python3.7/site-packages/tensorflow/python/ops/math_ops.py:3066: to_int32 (from tensorflow.python.ops.math_ops) is deprecated and will be removed in a future version.\n",
      "Instructions for updating:\n",
      "Use tf.cast instead.\n",
      "Train on 25998 samples, validate on 1560 samples\n",
      "Epoch 1/5\n",
      "25998/25998 [==============================] - 128s 5ms/step - loss: 0.3913 - acc: 0.8124 - val_loss: 0.2696 - val_acc: 0.8849\n",
      "Epoch 2/5\n",
      "25998/25998 [==============================] - 116s 4ms/step - loss: 0.1940 - acc: 0.9314 - val_loss: 0.2410 - val_acc: 0.9077\n",
      "Epoch 3/5\n",
      "25998/25998 [==============================] - 106s 4ms/step - loss: 0.1638 - acc: 0.9426 - val_loss: 0.2352 - val_acc: 0.8987\n",
      "Epoch 4/5\n",
      "25998/25998 [==============================] - 116s 4ms/step - loss: 0.1544 - acc: 0.9469 - val_loss: 0.2328 - val_acc: 0.9112\n",
      "Epoch 5/5\n",
      "25998/25998 [==============================] - 107s 4ms/step - loss: 0.1442 - acc: 0.9503 - val_loss: 0.1999 - val_acc: 0.9170\n"
     ]
    }
   ],
   "source": [
    "# Fitting ur model on our training data \n",
    "\n",
    "history = cnn_model.fit(x=X_train,y=y_train,\n",
    "                        validation_data=(X_test,y_test),\n",
    "                        callbacks=[tensorboard],\n",
    "                        epochs=eps,\n",
    "                        verbose=1)\n"
   ]
  },
  {
   "cell_type": "code",
   "execution_count": 17,
   "metadata": {},
   "outputs": [
    {
     "name": "stdout",
     "output_type": "stream",
     "text": [
      "model saved\n"
     ]
    }
   ],
   "source": [
    "# Saving our model and weights\n",
    "cnn_model.save('cnn_model.hdf5',overwrite=True)\n",
    "print('model saved')"
   ]
  },
  {
   "cell_type": "markdown",
   "metadata": {},
   "source": [
    "## Resulting validation accuracy is 92%"
   ]
  },
  {
   "cell_type": "code",
   "execution_count": 31,
   "metadata": {},
   "outputs": [
    {
     "name": "stdout",
     "output_type": "stream",
     "text": [
      "_________________________________________________________________\n",
      "Layer (type)                 Output Shape              Param #   \n",
      "=================================================================\n",
      "conv2d_1 (Conv2D)            (None, 58, 58, 32)        320       \n",
      "_________________________________________________________________\n",
      "max_pooling2d_1 (MaxPooling2 (None, 29, 29, 32)        0         \n",
      "_________________________________________________________________\n",
      "conv2d_2 (Conv2D)            (None, 27, 27, 32)        9248      \n",
      "_________________________________________________________________\n",
      "max_pooling2d_2 (MaxPooling2 (None, 13, 13, 32)        0         \n",
      "_________________________________________________________________\n",
      "conv2d_3 (Conv2D)            (None, 11, 11, 64)        18496     \n",
      "_________________________________________________________________\n",
      "max_pooling2d_3 (MaxPooling2 (None, 5, 5, 64)          0         \n",
      "_________________________________________________________________\n",
      "flatten_1 (Flatten)          (None, 1600)              0         \n",
      "_________________________________________________________________\n",
      "dense_1 (Dense)              (None, 128)               204928    \n",
      "_________________________________________________________________\n",
      "dropout_1 (Dropout)          (None, 128)               0         \n",
      "_________________________________________________________________\n",
      "dense_2 (Dense)              (None, 2)                 258       \n",
      "=================================================================\n",
      "Total params: 233,250\n",
      "Trainable params: 233,250\n",
      "Non-trainable params: 0\n",
      "_________________________________________________________________\n"
     ]
    }
   ],
   "source": [
    "cnn_model.summary()"
   ]
  },
  {
   "cell_type": "markdown",
   "metadata": {},
   "source": [
    "### Here I use Matplotlib to manually check our training and testing Loss/Accuracy over our epochs"
   ]
  },
  {
   "cell_type": "code",
   "execution_count": 27,
   "metadata": {},
   "outputs": [
    {
     "data": {
      "image/png": "[encoded data removed]",
      "text/plain": [
       "<Figure size 864x576 with 1 Axes>"
      ]
     },
     "metadata": {
      "needs_background": "light"
     },
     "output_type": "display_data"
    }
   ],
   "source": [
    "\n",
    "train_loss = history.history['loss']\n",
    "test_loss = history.history['val_loss']\n",
    "\n",
    "plt.figure(figsize=(12, 8))\n",
    "\n",
    "plt.plot(train_loss, label='Training Loss', color='#185fad')\n",
    "plt.plot(test_loss, label='Validation Loss', color='orange')\n",
    "\n",
    "plt.title('Training and Validation Loss by Epoch', fontsize = 25)\n",
    "plt.xlabel('Epoch', fontsize = 18)\n",
    "plt.ylabel('Binary Crossentropy', fontsize = 18)\n",
    "plt.xticks([0, 1, 2, 3, 4])\n",
    "\n",
    "plt.legend(fontsize = 18);"
   ]
  },
  {
   "cell_type": "code",
   "execution_count": 28,
   "metadata": {},
   "outputs": [
    {
     "data": {
      "image/png": "[encoded data removed]",
      "text/plain": [
       "<Figure size 864x576 with 1 Axes>"
      ]
     },
     "metadata": {
      "needs_background": "light"
     },
     "output_type": "display_data"
    }
   ],
   "source": [
    "# Check out our accuracy \n",
    "train_loss = history.history['acc']\n",
    "test_loss = history.history['val_acc']\n",
    "\n",
    "plt.figure(figsize=(12, 8))\n",
    "\n",
    "plt.plot(train_loss, label='Training Accuracy', color='#185fad')\n",
    "plt.plot(test_loss, label='Validation Accuracy', color='orange')\n",
    "\n",
    "plt.title('Training and Validation Accuracy by Epoch', fontsize = 25)\n",
    "plt.xlabel('Epoch', fontsize = 18)\n",
    "plt.ylabel('Binary Crossentropy', fontsize = 18)\n",
    "plt.xticks([0, 1, 2, 3, 4])\n",
    "\n",
    "plt.legend(fontsize = 18);"
   ]
  },
  {
   "cell_type": "code",
   "execution_count": null,
   "metadata": {},
   "outputs": [],
   "source": []
  },
  {
   "cell_type": "code",
   "execution_count": null,
   "metadata": {},
   "outputs": [],
   "source": []
  },
  {
   "cell_type": "code",
   "execution_count": null,
   "metadata": {},
   "outputs": [],
   "source": []
  }
 ],
 "metadata": {
  "kernelspec": {
   "display_name": "Python 3",
   "language": "python",
   "name": "python3"
  },
  "language_info": {
   "codemirror_mode": {
    "name": "ipython",
    "version": 3
   },
   "file_extension": ".py",
   "mimetype": "text/x-python",
   "name": "python",
   "nbconvert_exporter": "python",
   "pygments_lexer": "ipython3",
   "version": "3.7.1"
  }
 },
 "nbformat": 4,
 "nbformat_minor": 2
}

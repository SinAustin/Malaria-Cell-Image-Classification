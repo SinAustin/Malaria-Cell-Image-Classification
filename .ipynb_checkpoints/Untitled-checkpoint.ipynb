{
 "cells": [
  {
   "cell_type": "code",
   "execution_count": 40,
   "metadata": {},
   "outputs": [],
   "source": [
    "import numpy as np \n",
    "import pandas as pd\n",
    "\n",
    "import keras\n",
    "from keras.layers import Conv2D\n",
    "from keras.models import Sequential\n",
    "from keras.layers import Dense, Dropout, Activation, Flatten\n",
    "from keras.layers import MaxPooling2D\n",
    "from skimage import transform\n",
    "from skimage.color import rgb2gray\n",
    "\n",
    "import os\n",
    "\n",
    "%matplotlib inline"
   ]
  },
  {
   "cell_type": "code",
   "execution_count": 8,
   "metadata": {},
   "outputs": [],
   "source": [
    "train_dir = './cell_images/train'\n",
    "test_dir = './cell_images/test'"
   ]
  },
  {
   "cell_type": "code",
   "execution_count": 41,
   "metadata": {},
   "outputs": [],
   "source": [
    "# Loading our data\n",
    "\n",
    "def label_img(img):\n",
    "    word_label=img.split('.')[-5]\n",
    "    if word_label=='paras':\n",
    "        return [0,1]\n",
    "    elif word_label=='uninf':\n",
    "        return [1,0]"
   ]
  },
  {
   "cell_type": "code",
   "execution_count": 18,
   "metadata": {},
   "outputs": [],
   "source": [
    "x = np.array([1,2,3,4,44])\n",
    "xr = np.array([13,24,3,44,4])"
   ]
  },
  {
   "cell_type": "code",
   "execution_count": 25,
   "metadata": {},
   "outputs": [
    {
     "data": {
      "text/html": [
       "<div>\n",
       "<style scoped>\n",
       "    .dataframe tbody tr th:only-of-type {\n",
       "        vertical-align: middle;\n",
       "    }\n",
       "\n",
       "    .dataframe tbody tr th {\n",
       "        vertical-align: top;\n",
       "    }\n",
       "\n",
       "    .dataframe thead th {\n",
       "        text-align: right;\n",
       "    }\n",
       "</style>\n",
       "<table border=\"1\" class=\"dataframe\">\n",
       "  <thead>\n",
       "    <tr style=\"text-align: right;\">\n",
       "      <th></th>\n",
       "      <th>0</th>\n",
       "      <th>1</th>\n",
       "    </tr>\n",
       "  </thead>\n",
       "  <tbody>\n",
       "    <tr>\n",
       "      <th>0</th>\n",
       "      <td>1</td>\n",
       "      <td>13</td>\n",
       "    </tr>\n",
       "    <tr>\n",
       "      <th>1</th>\n",
       "      <td>2</td>\n",
       "      <td>24</td>\n",
       "    </tr>\n",
       "    <tr>\n",
       "      <th>2</th>\n",
       "      <td>3</td>\n",
       "      <td>3</td>\n",
       "    </tr>\n",
       "    <tr>\n",
       "      <th>3</th>\n",
       "      <td>4</td>\n",
       "      <td>44</td>\n",
       "    </tr>\n",
       "    <tr>\n",
       "      <th>4</th>\n",
       "      <td>44</td>\n",
       "      <td>4</td>\n",
       "    </tr>\n",
       "  </tbody>\n",
       "</table>\n",
       "</div>"
      ],
      "text/plain": [
       "    0   1\n",
       "0   1  13\n",
       "1   2  24\n",
       "2   3   3\n",
       "3   4  44\n",
       "4  44   4"
      ]
     },
     "execution_count": 25,
     "metadata": {},
     "output_type": "execute_result"
    }
   ],
   "source": [
    "pd.concat([pd.Series(x),pd.Series(xr)], axis=1)"
   ]
  },
  {
   "cell_type": "code",
   "execution_count": 23,
   "metadata": {
    "scrolled": true
   },
   "outputs": [
    {
     "data": {
      "text/html": [
       "<div>\n",
       "<style scoped>\n",
       "    .dataframe tbody tr th:only-of-type {\n",
       "        vertical-align: middle;\n",
       "    }\n",
       "\n",
       "    .dataframe tbody tr th {\n",
       "        vertical-align: top;\n",
       "    }\n",
       "\n",
       "    .dataframe thead th {\n",
       "        text-align: right;\n",
       "    }\n",
       "</style>\n",
       "<table border=\"1\" class=\"dataframe\">\n",
       "  <thead>\n",
       "    <tr style=\"text-align: right;\">\n",
       "      <th></th>\n",
       "      <th>0</th>\n",
       "      <th>1</th>\n",
       "      <th>2</th>\n",
       "      <th>3</th>\n",
       "      <th>4</th>\n",
       "    </tr>\n",
       "  </thead>\n",
       "  <tbody>\n",
       "    <tr>\n",
       "      <th>0</th>\n",
       "      <td>1</td>\n",
       "      <td>2</td>\n",
       "      <td>3</td>\n",
       "      <td>4</td>\n",
       "      <td>44</td>\n",
       "    </tr>\n",
       "    <tr>\n",
       "      <th>1</th>\n",
       "      <td>13</td>\n",
       "      <td>24</td>\n",
       "      <td>3</td>\n",
       "      <td>44</td>\n",
       "      <td>4</td>\n",
       "    </tr>\n",
       "  </tbody>\n",
       "</table>\n",
       "</div>"
      ],
      "text/plain": [
       "    0   1  2   3   4\n",
       "0   1   2  3   4  44\n",
       "1  13  24  3  44   4"
      ]
     },
     "execution_count": 23,
     "metadata": {},
     "output_type": "execute_result"
    }
   ],
   "source": [
    "pd.DataFrame([pd.Series(x),pd.Series(xr)])"
   ]
  },
  {
   "cell_type": "code",
   "execution_count": 26,
   "metadata": {},
   "outputs": [],
   "source": [
    "#creating our training data\n",
    "def mk_train_data():\n",
    "    train_data = []\n",
    "    for img in ('./cell_images/train'):\n",
    "        label = label_img(img)\n",
    "        path = os.path.join(train_dir, img)\n",
    "        img = rgb2gray(img)\n",
    "        img = transform.resize(img,[60,60])\n",
    "        train_data.append([np.array(img), np.array(label)])\n",
    "    shuffle(train_data)\n",
    "    np.save('train_data.npy', train_data)\n",
    "    return train_data"
   ]
  },
  {
   "cell_type": "code",
   "execution_count": 31,
   "metadata": {},
   "outputs": [],
   "source": [
    "#creating our testing data\n",
    "def mk_test_data():\n",
    "    test_data = []\n",
    "    for img in ('./cell_images/test'):\n",
    "        path = os.path.join(train_dir, img)\n",
    "        img_num = img.split(',')[0]\n",
    "        img = rgb2gray(img)\n",
    "        img = transform.resize(img,[60,60])\n",
    "        test_data.append([np.array(img), img_num])\n",
    "    np.save('test_data.npy', test_data)\n",
    "    return test_data"
   ]
  },
  {
   "cell_type": "markdown",
   "metadata": {},
   "source": [
    "### Only run the next 2 cells if we haven't made training and testing data yet"
   ]
  },
  {
   "cell_type": "code",
   "execution_count": null,
   "metadata": {},
   "outputs": [],
   "source": [
    "# IF we haven't made train data\n",
    "train_data = mk_train_data()"
   ]
  },
  {
   "cell_type": "code",
   "execution_count": null,
   "metadata": {},
   "outputs": [],
   "source": [
    "# IF we haven't made test data\n",
    "test_data = mk_test_data()"
   ]
  },
  {
   "cell_type": "markdown",
   "metadata": {},
   "source": [
    "### Creating our train and test sets"
   ]
  },
  {
   "cell_type": "code",
   "execution_count": null,
   "metadata": {},
   "outputs": [],
   "source": [
    "X_train = np.array([i[0] for i in train_data]).reshape(-1, 60,60,1)\n",
    "y_train = [i[1] for i in train_data]\n",
    "\n",
    "X_test = np.array([i[0] for i in test_data]).reshape(-1, 60,60,1)\n",
    "y_test = [i[1] for i in test_data]"
   ]
  },
  {
   "cell_type": "code",
   "execution_count": 39,
   "metadata": {},
   "outputs": [],
   "source": [
    "# Building our Model\n",
    "\n",
    "cnn_model = Sequential()\n",
    "\n",
    "cnn_model.add(Conv2D(filters = 32,\n",
    "                     kernel_size = 3,\n",
    "                     activation = 'relu',\n",
    "                    input_shape =[60,60,1] ))\n",
    "cnn_model.add(MaxPooling2D(pool_size = (2,2)))\n",
    "\n",
    "cnn_model.add(Conv2D(32,\n",
    "                    kernel_size = 3,\n",
    "                    activation = 'relu'))\n",
    "cnn_model.add(MaxPooling2D(pool_size = (2,2)))\n",
    "\n",
    "cnn_model.add(Conv2D(64,\n",
    "                    kernel_size = 3,\n",
    "                    activation = 'relu'))\n",
    "cnn_model.add(MaxPooling2D(pool_size = (2,2)))\n",
    "\n",
    "\n",
    "cnn_model.add(Flatten())\n",
    "cnn_model.add(Dense(128,\n",
    "                   activation = 'relu'))\n",
    "\n",
    "model.add(Dropout(0.5))\n",
    "cnn_model.add(Dense(2,\n",
    "             activation = 'sigmoid'))\n",
    "\n",
    "\n"
   ]
  },
  {
   "cell_type": "code",
   "execution_count": null,
   "metadata": {},
   "outputs": [],
   "source": [
    "cnn_model.compile(loss = 'binary_crossentropy'\n",
    "                 optimizer = 'rmsprop'\n",
    "                 metrics=['accuracy'])"
   ]
  },
  {
   "cell_type": "code",
   "execution_count": null,
   "metadata": {},
   "outputs": [],
   "source": [
    "if os.path.exists('{}.meta'.format(cnn_model)):\n",
    "    model.load(cnn_model)\n",
    "    print 'cnn_model reloaded!')"
   ]
  },
  {
   "cell_type": "code",
   "execution_count": null,
   "metadata": {},
   "outputs": [],
   "source": [
    "# Fitting ur model on our training data \n",
    "\n",
    "history = cnn_model.fit(X_train,y_train,\n",
    "                       batch_size=256,\n",
    "                       validation_data=(x_test,y_test),\n",
    "                       epochs=5,\n",
    "                       verbose=1)\n"
   ]
  },
  {
   "cell_type": "code",
   "execution_count": null,
   "metadata": {},
   "outputs": [],
   "source": [
    "#checking our training and testing loss over our epochs"
   ]
  },
  {
   "cell_type": "code",
   "execution_count": null,
   "metadata": {},
   "outputs": [],
   "source": []
  }
 ],
 "metadata": {
  "kernelspec": {
   "display_name": "Python 3",
   "language": "python",
   "name": "python3"
  },
  "language_info": {
   "codemirror_mode": {
    "name": "ipython",
    "version": 3
   },
   "file_extension": ".py",
   "mimetype": "text/x-python",
   "name": "python",
   "nbconvert_exporter": "python",
   "pygments_lexer": "ipython3",
   "version": "3.7.1"
  }
 },
 "nbformat": 4,
 "nbformat_minor": 2
}
